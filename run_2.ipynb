{
 "cells": [
  {
   "cell_type": "code",
   "execution_count": 1,
   "metadata": {},
   "outputs": [],
   "source": [
    "import os\n",
    "os.chdir('/workspace/my_cyclegan')"
   ]
  },
  {
   "cell_type": "code",
   "execution_count": 7,
   "metadata": {},
   "outputs": [
    {
     "name": "stdout",
     "output_type": "stream",
     "text": [
      "Dataset SemiCycleDataset was created\n",
      "The number of test images = 10380\n",
      "Using cache found in /root/.cache/torch/hub/pytorch_vision_v0.6.0\n",
      "initialize network with normal\n",
      "initialize network with normal\n",
      "initialize network with normal\n",
      "Using cache found in /root/.cache/torch/hub/pytorch_vision_v0.6.0\n",
      "initialize network with normal\n",
      "initialize network with normal\n",
      "initialize network with normal\n",
      "model [SemiCycleGANModel] was created\n",
      "loading the model from ./checkpoints/cycle_regular/last.pt\n",
      "loading the model from ./checkpoints/cycle_regular/last.pt\n",
      "---------- Networks initialized -------------\n",
      "[Network netG_A] Total number of parameters : 11.711 M\n",
      "[Network netG_B] Total number of parameters : 11.711 M\n",
      "-----------------------------------------------\n",
      "100%|█████████████████████████████████████████| 346/346 [42:05<00:00,  7.30s/it]\n"
     ]
    }
   ],
   "source": [
    "!python test.py --name cycle_regular\\\n",
    "--dataroot /all_data/Scannet_filtered/\\\n",
    "--load_size_h 320\\\n",
    "--load_size_w 320\\\n",
    "--gpu_ids 3\\\n",
    "--batch_size 30\\\n",
    "--no_data_shuffle\\\n",
    "--save_img\\\n",
    "--phase test"
   ]
  },
  {
   "cell_type": "code",
   "execution_count": null,
   "metadata": {},
   "outputs": [],
   "source": []
  }
 ],
 "metadata": {
  "kernelspec": {
   "display_name": "Python 3",
   "language": "python",
   "name": "python3"
  },
  "language_info": {
   "codemirror_mode": {
    "name": "ipython",
    "version": 3
   },
   "file_extension": ".py",
   "mimetype": "text/x-python",
   "name": "python",
   "nbconvert_exporter": "python",
   "pygments_lexer": "ipython3",
   "version": "3.7.7"
  }
 },
 "nbformat": 4,
 "nbformat_minor": 4
}
