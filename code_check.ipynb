{
 "cells": [
  {
   "cell_type": "code",
   "execution_count": 1,
   "metadata": {},
   "outputs": [
    {
     "name": "stdout",
     "output_type": "stream",
     "text": [
      "[NbConvertApp] Converting notebook ./print_model.ipynb to script\n",
      "[NbConvertApp] Writing 336 bytes to ./print_model.py\n"
     ]
    }
   ],
   "source": [
    "!jupyter nbconvert --to script ./print_model.ipynb"
   ]
  },
  {
   "cell_type": "code",
   "execution_count": 1,
   "metadata": {},
   "outputs": [],
   "source": [
    "a = {}"
   ]
  },
  {
   "cell_type": "code",
   "execution_count": 3,
   "metadata": {},
   "outputs": [],
   "source": [
    "a['2'] = 3"
   ]
  },
  {
   "cell_type": "code",
   "execution_count": 4,
   "metadata": {},
   "outputs": [
    {
     "data": {
      "text/plain": [
       "{'2': 3}"
      ]
     },
     "execution_count": 4,
     "metadata": {},
     "output_type": "execute_result"
    }
   ],
   "source": [
    "a"
   ]
  },
  {
   "cell_type": "code",
   "execution_count": null,
   "metadata": {},
   "outputs": [],
   "source": []
  },
  {
   "cell_type": "code",
   "execution_count": null,
   "metadata": {},
   "outputs": [],
   "source": []
  },
  {
   "cell_type": "code",
   "execution_count": 1,
   "metadata": {},
   "outputs": [],
   "source": [
    "import os\n",
    "os.chdir('/workspace/my_cyclegan')\n",
    "\n",
    "from options.train_options import TrainOptions\n",
    "from dataloader import create_dataset\n",
    "from models import create_model\n",
    "from util.visualizer import Visualizer\n",
    "\n",
    "import time\n",
    "import numpy as np\n",
    "import matplotlib.pyplot as plt\n",
    "import torch"
   ]
  },
  {
   "cell_type": "code",
   "execution_count": 2,
   "metadata": {},
   "outputs": [
    {
     "name": "stdout",
     "output_type": "stream",
     "text": [
      "----------------- Options ---------------\n",
      "               batch_size: 5                             \n",
      "                    beta1: 0.5                           \n",
      "          checkpoints_dir: ./checkpoints                 \n",
      "           continue_train: False                         \n",
      "                crop_size: 256                           \n",
      "             data_shuffle: False                         \n",
      "                 dataroot: /all_data/hdd/un_depth/semi/sample\n",
      "             dataset_mode: semi_cycle                    \n",
      "            deterministic: False                         \n",
      "         disc_for_normals: False                         \n",
      "                  dropout: False                         \n",
      "              epoch_count: 1                             \n",
      "                 gan_mode: lsgan                         \n",
      "                  gpu_ids: 0,1                           \n",
      "                 img_freq: 1                             \n",
      "                init_type: normal                        \n",
      "           input_nc_depth: 1                             \n",
      "             input_nc_img: 3                             \n",
      "                  isTrain: True                          \t[default: None]\n",
      "          l_cycle_A_begin: 10.0                          \n",
      "            l_cycle_A_end: 10.0                          \n",
      "          l_cycle_B_begin: 10.0                          \n",
      "            l_cycle_B_end: 10.0                          \n",
      "          l_depth_A_begin: 5.0                           \n",
      "            l_depth_A_end: 0.0                           \n",
      "          l_depth_B_begin: 5.0                           \n",
      "            l_depth_B_end: 0.0                           \n",
      "         l_depth_max_iter: 5000                          \n",
      "               l_identity: 0.0                           \n",
      "l_reconstruction_semantic: 0.0                           \n",
      "               load_epoch: last                          \n",
      "                load_iter: 0                             \t[default: 0]\n",
      "              load_size_h: 480                           \n",
      "              load_size_w: 640                           \n",
      "                loss_freq: 1                             \n",
      "                     lr_D: 0.0002                        \n",
      "                     lr_G: 0.0002                        \n",
      "           lr_decay_iters: 50                            \n",
      "                lr_policy: linear                        \n",
      "         max_dataset_size: inf                           \n",
      "             max_distance: 8000.0                        \n",
      "                    model: semi_cycle_gan                \n",
      "                 n_blocks: 9                             \n",
      "           n_downsampling: 2                             \n",
      "                 n_epochs: 1                             \n",
      "           n_epochs_decay: 1                             \n",
      "               n_layers_D: 3                             \n",
      "                    n_pic: 3                             \n",
      "                     name: test                          \n",
      "                      ndf: 64                            \n",
      "                     netD: n_layers                      \n",
      "                ngf_depth: 32                            \n",
      "                  ngf_img: 32                            \n",
      "                     norm: instance                      \n",
      "             num_iter_dis: 1                             \n",
      "             num_iter_gen: 1                             \n",
      "              num_workers: 4                             \n",
      "            old_generator: False                         \n",
      "          output_nc_depth: 1                             \n",
      "            output_nc_img: 41                            \n",
      "                    phase: train                         \n",
      "          save_epoch_freq: 10                            \n",
      "          upsampling_type: upconv                        \n",
      "                 use_blur: False                         \n",
      "        use_mean_matching: False                         \n",
      "         use_second_cycle: False                         \n",
      "             use_semantic: False                         \n",
      "                  verbose: False                         \n",
      "----------------- End -------------------\n"
     ]
    }
   ],
   "source": [
    "opt = TrainOptions().parse(isCodeCheck=True)\n",
    "opt.name = 'mean_matching_mask_5depthloss'\n",
    "opt.use_second_cycle = True\n",
    "opt.use_mean_matching = True\n",
    "opt.load_epoch = 6\n",
    "opt.continue_train = True\n",
    "opt.data_shuffle = True\n",
    "opt.batch_size = 8\n",
    "opt.lr_D = 0.0002\n",
    "opt.lr_G = 0.0001\n",
    "torch.cuda.set_device(opt.gpu_ids[0])\n"
   ]
  },
  {
   "cell_type": "code",
   "execution_count": 3,
   "metadata": {},
   "outputs": [
    {
     "data": {
      "text/plain": [
       "Namespace(batch_size=8, beta1=0.5, checkpoints_dir='./checkpoints', continue_train=True, crop_size=256, data_shuffle=True, dataroot='/all_data/hdd/un_depth/semi/sample', dataset_mode='semi_cycle', deterministic=False, disc_for_normals=False, dropout=False, epoch_count=1, gan_mode='lsgan', gpu_ids=[0, 1], img_freq=1, init_type='normal', input_nc_depth=1, input_nc_img=3, isTrain=True, l_cycle_A_begin=10.0, l_cycle_A_end=10.0, l_cycle_B_begin=10.0, l_cycle_B_end=10.0, l_depth_A_begin=5.0, l_depth_A_end=0.0, l_depth_B_begin=5.0, l_depth_B_end=0.0, l_depth_max_iter=5000, l_identity=0.0, l_reconstruction_semantic=0.0, load_epoch=6, load_iter=0, load_size_h=480, load_size_w=640, loss_freq=1, lr_D=0.0002, lr_G=0.0001, lr_decay_iters=50, lr_policy='linear', max_dataset_size=inf, max_distance=8000.0, model='semi_cycle_gan', n_blocks=9, n_downsampling=2, n_epochs=1, n_epochs_decay=1, n_layers_D=3, n_pic=3, name='mean_matching_mask_5depthloss', ndf=64, netD='n_layers', ngf_depth=32, ngf_img=32, norm='instance', num_iter_dis=1, num_iter_gen=1, num_workers=4, old_generator=False, output_nc_depth=1, output_nc_img=41, phase='train', save_epoch_freq=10, upsampling_type='upconv', use_blur=False, use_mean_matching=True, use_second_cycle=True, use_semantic=False, verbose=False)"
      ]
     },
     "execution_count": 3,
     "metadata": {},
     "output_type": "execute_result"
    }
   ],
   "source": [
    "opt"
   ]
  },
  {
   "cell_type": "code",
   "execution_count": 4,
   "metadata": {},
   "outputs": [
    {
     "name": "stdout",
     "output_type": "stream",
     "text": [
      "Dataset SemiCycleDataset was created\n",
      "The number of training images = 20000\n"
     ]
    }
   ],
   "source": [
    "dataset = create_dataset(opt)  \n",
    "dataset_size = len(dataset)    # get the number of images in the dataset.\n",
    "print('The number of training images = %d' % dataset_size)\n",
    "vis = Visualizer(opt)"
   ]
  },
  {
   "cell_type": "code",
   "execution_count": 5,
   "metadata": {},
   "outputs": [
    {
     "name": "stdout",
     "output_type": "stream",
     "text": [
      "initialize network with normal\n",
      "initialize network with normal\n",
      "initialize network with normal\n",
      "initialize network with normal\n",
      "model [SemiCycleGANModel] was created\n",
      "loading the model from ./checkpoints/mean_matching_mask_5depthloss/6_netG_A.pth\n",
      "loading the model from ./checkpoints/mean_matching_mask_5depthloss/6_netG_B.pth\n",
      "loading the model from ./checkpoints/mean_matching_mask_5depthloss/6_netD_A_depth.pth\n",
      "loading the model from ./checkpoints/mean_matching_mask_5depthloss/6_netD_B_depth.pth\n",
      "---------- Networks initialized -------------\n",
      "[Network netG_A] Total number of parameters : 11.328 M\n",
      "[Network netG_B] Total number of parameters : 11.652 M\n",
      "[Network netD_A_depth] Total number of parameters : 2.763 M\n",
      "[Network netD_B_depth] Total number of parameters : 2.763 M\n",
      "-----------------------------------------------\n"
     ]
    }
   ],
   "source": [
    "model = create_model(opt)      # create a model given opt.model and other options\n",
    "model.setup()"
   ]
  },
  {
   "cell_type": "code",
   "execution_count": 6,
   "metadata": {},
   "outputs": [],
   "source": [
    "for data in dataset:\n",
    "    model.set_input(data)\n",
    "    model.optimize_param()\n",
    "#     vis.plot_a2b(model.get_current_vis())\n",
    "    break"
   ]
  },
  {
   "cell_type": "code",
   "execution_count": 13,
   "metadata": {},
   "outputs": [
    {
     "data": {
      "text/plain": [
       "OrderedDict([('D_A_depth', nan),\n",
       "             ('D_B_depth', nan),\n",
       "             ('G_A', nan),\n",
       "             ('G_B', nan),\n",
       "             ('cycle_A', 0.48907947540283203),\n",
       "             ('cycle_B', 2.061032295227051),\n",
       "             ('depth_range_A', 0.5395360589027405),\n",
       "             ('depth_range_B', 1.2941814661026)])"
      ]
     },
     "execution_count": 13,
     "metadata": {},
     "output_type": "execute_result"
    }
   ],
   "source": [
    "model.get_current_losses()"
   ]
  },
  {
   "cell_type": "code",
   "execution_count": 25,
   "metadata": {},
   "outputs": [
    {
     "data": {
      "text/plain": [
       "NLayerDiscriminator(\n",
       "  (model): Sequential(\n",
       "    (0): Conv2d(1, 64, kernel_size=(4, 4), stride=(2, 2), padding=(1, 1))\n",
       "    (1): LeakyReLU(negative_slope=0.2, inplace=True)\n",
       "    (2): Conv2d(64, 128, kernel_size=(4, 4), stride=(2, 2), padding=(1, 1))\n",
       "    (3): InstanceNorm2d(128, eps=1e-05, momentum=0.1, affine=False, track_running_stats=False)\n",
       "    (4): LeakyReLU(negative_slope=0.2, inplace=True)\n",
       "    (5): Conv2d(128, 256, kernel_size=(4, 4), stride=(2, 2), padding=(1, 1))\n",
       "    (6): InstanceNorm2d(256, eps=1e-05, momentum=0.1, affine=False, track_running_stats=False)\n",
       "    (7): LeakyReLU(negative_slope=0.2, inplace=True)\n",
       "    (8): Conv2d(256, 512, kernel_size=(4, 4), stride=(1, 1), padding=(1, 1))\n",
       "    (9): InstanceNorm2d(512, eps=1e-05, momentum=0.1, affine=False, track_running_stats=False)\n",
       "    (10): LeakyReLU(negative_slope=0.2, inplace=True)\n",
       "    (11): Conv2d(512, 1, kernel_size=(4, 4), stride=(1, 1), padding=(1, 1))\n",
       "  )\n",
       ")"
      ]
     },
     "execution_count": 25,
     "metadata": {},
     "output_type": "execute_result"
    }
   ],
   "source": [
    "model.netD_A_depth.module"
   ]
  },
  {
   "cell_type": "code",
   "execution_count": 30,
   "metadata": {},
   "outputs": [
    {
     "ename": "RuntimeError",
     "evalue": "Nan",
     "output_type": "error",
     "traceback": [
      "\u001b[0;31m---------------------------------------------------------------------------\u001b[0m",
      "\u001b[0;31mRuntimeError\u001b[0m                              Traceback (most recent call last)",
      "\u001b[0;32m<ipython-input-30-c1ef0d6966ad>\u001b[0m in \u001b[0;36m<module>\u001b[0;34m\u001b[0m\n\u001b[1;32m      1\u001b[0m \u001b[0;32mfor\u001b[0m \u001b[0mn\u001b[0m\u001b[0;34m,\u001b[0m \u001b[0mp\u001b[0m \u001b[0;32min\u001b[0m \u001b[0mmodel\u001b[0m\u001b[0;34m.\u001b[0m\u001b[0mnetD_A_depth\u001b[0m\u001b[0;34m.\u001b[0m\u001b[0mmodule\u001b[0m\u001b[0;34m.\u001b[0m\u001b[0mnamed_parameters\u001b[0m\u001b[0;34m(\u001b[0m\u001b[0;34m)\u001b[0m\u001b[0;34m:\u001b[0m\u001b[0;34m\u001b[0m\u001b[0;34m\u001b[0m\u001b[0m\n\u001b[1;32m      2\u001b[0m     \u001b[0;32mif\u001b[0m \u001b[0mtorch\u001b[0m\u001b[0;34m.\u001b[0m\u001b[0misnan\u001b[0m\u001b[0;34m(\u001b[0m\u001b[0mp\u001b[0m\u001b[0;34m)\u001b[0m\u001b[0;34m.\u001b[0m\u001b[0many\u001b[0m\u001b[0;34m(\u001b[0m\u001b[0;34m)\u001b[0m\u001b[0;34m:\u001b[0m\u001b[0;34m\u001b[0m\u001b[0;34m\u001b[0m\u001b[0m\n\u001b[0;32m----> 3\u001b[0;31m         \u001b[0;32mraise\u001b[0m \u001b[0mRuntimeError\u001b[0m\u001b[0;34m(\u001b[0m\u001b[0;34m'Nan'\u001b[0m\u001b[0;34m)\u001b[0m\u001b[0;34m\u001b[0m\u001b[0;34m\u001b[0m\u001b[0m\n\u001b[0m",
      "\u001b[0;31mRuntimeError\u001b[0m: Nan"
     ]
    }
   ],
   "source": [
    "for n, p in model.netD_A_depth.module.named_parameters():\n",
    "    if torch.isnan(p).any():\n",
    "        raise RuntimeError('Nan')"
   ]
  },
  {
   "cell_type": "code",
   "execution_count": 37,
   "metadata": {},
   "outputs": [
    {
     "name": "stdout",
     "output_type": "stream",
     "text": [
      "model.0.weight tensor(True, device='cuda:0')\n",
      "model.0.bias tensor(True, device='cuda:0')\n",
      "model.2.weight tensor(True, device='cuda:0')\n",
      "model.2.bias tensor(True, device='cuda:0')\n",
      "model.5.weight tensor(True, device='cuda:0')\n",
      "model.5.bias tensor(True, device='cuda:0')\n",
      "model.8.weight tensor(True, device='cuda:0')\n",
      "model.8.bias tensor(True, device='cuda:0')\n",
      "model.11.weight tensor(True, device='cuda:0')\n",
      "model.11.bias tensor(True, device='cuda:0')\n"
     ]
    }
   ],
   "source": [
    "for name, param in model.netD_A_depth.module.named_parameters():\n",
    "    print(name, torch.isnan(param.grad).any())"
   ]
  },
  {
   "cell_type": "code",
   "execution_count": 5,
   "metadata": {},
   "outputs": [
    {
     "data": {
      "text/plain": [
       "torch.int64"
      ]
     },
     "execution_count": 5,
     "metadata": {},
     "output_type": "execute_result"
    }
   ],
   "source": [
    "data['A_semantic'].dtype"
   ]
  },
  {
   "cell_type": "code",
   "execution_count": 22,
   "metadata": {},
   "outputs": [],
   "source": [
    "a = torch.tensor([True, False])"
   ]
  },
  {
   "cell_type": "code",
   "execution_count": 24,
   "metadata": {},
   "outputs": [
    {
     "data": {
      "text/plain": [
       "tensor(1)"
      ]
     },
     "execution_count": 24,
     "metadata": {},
     "output_type": "execute_result"
    }
   ],
   "source": [
    "torch.sum(a)"
   ]
  },
  {
   "cell_type": "code",
   "execution_count": null,
   "metadata": {},
   "outputs": [],
   "source": []
  },
  {
   "cell_type": "code",
   "execution_count": 6,
   "metadata": {},
   "outputs": [],
   "source": [
    "import imageio\n",
    "import matplotlib.pyplot as plt"
   ]
  },
  {
   "cell_type": "code",
   "execution_count": 11,
   "metadata": {},
   "outputs": [
    {
     "data": {
      "text/plain": [
       "<matplotlib.image.AxesImage at 0x7f0b8978db90>"
      ]
     },
     "execution_count": 11,
     "metadata": {},
     "output_type": "execute_result"
    },
    {
     "data": {
      "image/png": "[encoded data removed]",
      "text/plain": [
       "<Figure size 432x288 with 1 Axes>"
      ]
     },
     "metadata": {
      "needs_background": "light"
     },
     "output_type": "display_data"
    }
   ],
   "source": [
    "a = imageio.imread('/all_data/hdd/un_depth/semi/sample/testA/depth/scene0092_01_200.png')\n",
    "plt.imshow(a)"
   ]
  },
  {
   "cell_type": "code",
   "execution_count": null,
   "metadata": {},
   "outputs": [],
   "source": []
  },
  {
   "cell_type": "code",
   "execution_count": null,
   "metadata": {},
   "outputs": [],
   "source": []
  },
  {
   "cell_type": "code",
   "execution_count": 1,
   "metadata": {},
   "outputs": [],
   "source": [
    "import os\n",
    "os.chdir('/workspace/my_cyclegan')"
   ]
  },
  {
   "cell_type": "code",
   "execution_count": 6,
   "metadata": {},
   "outputs": [],
   "source": [
    "# !python train.py --dataroot /all_data/hdd/un_depth/semi/sample\\\n",
    "# --gpu_ids 1\\\n",
    "# --name test\\\n",
    "# --gan_mode vanilla\\\n",
    "# --use_blur\\\n",
    "# --netG resnet_6blocks\\\n",
    "# --ngf_depth 20\\\n",
    "# --ngf_rgb 32\\\n",
    "# --ngf_depth_edge 16\\\n",
    "# --ndf 64\\\n",
    "# --netD n_layers\\\n",
    "# --n_layers_D 3\\\n",
    "# --l_depth_large_A 70\\\n",
    "# --l_depth_small_A 70\\\n",
    "# --l_depth_large_B 10\\\n",
    "# --l_depth_small_B 10\\\n",
    "# --l_depth_max_iter 30000\\\n",
    "# --lambda_cycle_A 5.0\\\n",
    "# --lambda_identity 2.5\\\n",
    "# --lambda_reconstruction 0.0\\\n",
    "# --max_dataset_size 18\\\n",
    "# --batch_size 6\\\n",
    "# --load_size_h 480\\\n",
    "# --load_size_w 640\\\n",
    "# --lr_D 0.0003\\\n",
    "# --lr_G 0.0002\\\n",
    "# --num_iter_gen 3\\\n",
    "# --norm instance\\\n",
    "# --init_type xavier\\\n",
    "# --beta1 0.5\\\n",
    "# --img_freq 1\\\n",
    "# --loss_freq 1\\\n",
    "# --save_epoch_freq 10\\\n",
    "# --n_epochs 10\\\n",
    "# --n_epochs_decay 5\\\n",
    "# # --netG_d2e unet_256\\\n",
    "# # --net_d2e_weights './checkpoints/depth_edge_unet_1.5_weight_binatyloss/last_netG_B.pth'\\"
   ]
  },
  {
   "cell_type": "code",
   "execution_count": null,
   "metadata": {},
   "outputs": [],
   "source": []
  }
 ],
 "metadata": {
  "kernelspec": {
   "display_name": "Python 3",
   "language": "python",
   "name": "python3"
  },
  "language_info": {
   "codemirror_mode": {
    "name": "ipython",
    "version": 3
   },
   "file_extension": ".py",
   "mimetype": "text/x-python",
   "name": "python",
   "nbconvert_exporter": "python",
   "pygments_lexer": "ipython3",
   "version": "3.7.7"
  }
 },
 "nbformat": 4,
 "nbformat_minor": 4
}
