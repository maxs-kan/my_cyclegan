{
 "cells": [
  {
   "cell_type": "code",
   "execution_count": 1,
   "metadata": {},
   "outputs": [
    {
     "name": "stdout",
     "output_type": "stream",
     "text": [
      "[NbConvertApp] Converting notebook ./print_model.ipynb to script\n",
      "[NbConvertApp] Writing 336 bytes to ./print_model.py\n"
     ]
    }
   ],
   "source": [
    "# !jupyter nbconvert --to script ./print_model.ipynb"
   ]
  },
  {
   "cell_type": "code",
   "execution_count": 3,
   "metadata": {},
   "outputs": [],
   "source": [
    "import os\n",
    "os.chdir('/workspace/my_cyclegan')\n",
    "\n",
    "from options.train_options import TrainOptions\n",
    "from dataloader import create_dataset\n",
    "from models import create_model\n",
    "from utils.visualizer import Visualizer\n",
    "\n",
    "import time\n",
    "import numpy as np\n",
    "import matplotlib.pyplot as plt\n",
    "import torch\n",
    "import torch.nn as nn\n",
    "import pandas as pd"
   ]
  },
  {
   "cell_type": "code",
   "execution_count": 3,
   "metadata": {},
   "outputs": [
    {
     "name": "stdout",
     "output_type": "stream",
     "text": [
      "----------------- Options ---------------\n",
      "               batch_size: 5                             \n",
      "                    beta1: 0.5                           \n",
      "          checkpoints_dir: ./checkpoints                 \n",
      "           continue_train: False                         \n",
      "                crop_size: 256                           \n",
      "             data_shuffle: False                         \n",
      "                 dataroot: /all_data/hdd/un_depth/semi/sample\n",
      "             dataset_mode: semi_cycle                    \n",
      "            deterministic: False                         \n",
      "           disc_for_depth: False                         \n",
      "         disc_for_normals: False                         \n",
      "                  dropout: False                         \n",
      "              epoch_count: 1                             \n",
      "                 gan_mode: lsgan                         \n",
      "                  gpu_ids: 0,1                           \n",
      "                 img_freq: 1                             \n",
      "                init_type: xavier                        \n",
      "           input_nc_depth: 1                             \n",
      "             input_nc_img: 3                             \n",
      "                  isTrain: True                          \t[default: None]\n",
      "               load_epoch: last                          \n",
      "       load_epoch_weights: last                          \n",
      "                load_iter: 0                             \t[default: 0]\n",
      "              load_size_h: 480                           \n",
      "              load_size_w: 640                           \n",
      "                loss_freq: 1                             \n",
      "                     lr_D: 0.0002                        \n",
      "                     lr_G: 0.0002                        \n",
      "                   lr_G_A: 0.0001                        \n",
      "                   lr_G_B: 0.0005                        \n",
      "           lr_decay_iters: 50                            \n",
      "                lr_policy: linear                        \n",
      "         max_dataset_size: inf                           \n",
      "             max_distance: 8000.0                        \n",
      "                    model: pretrain                      \n",
      "                 n_blocks: 9                             \n",
      "           n_downsampling: 2                             \n",
      "                 n_epochs: 1                             \n",
      "           n_epochs_decay: 1                             \n",
      "               n_layers_D: 3                             \n",
      "                    n_pic: 3                             \n",
      "                     name: test                          \n",
      "                      ndf: 64                            \n",
      "                     netD: n_layers                      \n",
      "                ngf_depth: 32                            \n",
      "                  ngf_img: 32                            \n",
      "                     norm: instance                      \n",
      "              num_workers: 4                             \n",
      "          output_nc_depth: 1                             \n",
      "            output_nc_img: 41                            \n",
      "                    phase: train                         \n",
      "          save_epoch_freq: 10                            \n",
      "          upsampling_type: transpose                     \n",
      "        use_mean_matching: False                         \n",
      "      use_petrain_weights: False                         \n",
      "         use_second_cycle: False                         \n",
      "             use_semantic: False                         \n",
      "           use_semi_cycle: False                         \n",
      "                  verbose: False                         \n",
      "              weights_dir: ./checkpoints/pretrain_weights/\n",
      "----------------- End -------------------\n"
     ]
    }
   ],
   "source": [
    "opt = TrainOptions().parse(isCodeCheck=True)\n",
    "opt.name = 'pretrain_weights_instance'\n",
    "opt.load_epoch = 'Nan'\n",
    "opt.continue_train = True\n",
    "opt.data_shuffle = True\n",
    "opt.batch_size = 8\n",
    "torch.cuda.set_device(opt.gpu_ids[0])"
   ]
  },
  {
   "cell_type": "code",
   "execution_count": 4,
   "metadata": {},
   "outputs": [
    {
     "name": "stdout",
     "output_type": "stream",
     "text": [
      "Dataset SemiCycleDataset was created\n",
      "The number of training images = 20000\n"
     ]
    }
   ],
   "source": [
    "dataset = create_dataset(opt)  \n",
    "dataset_size = len(dataset)    # get the number of images in the dataset.\n",
    "print('The number of training images = %d' % dataset_size)\n",
    "vis = Visualizer(opt)"
   ]
  },
  {
   "cell_type": "code",
   "execution_count": 4,
   "metadata": {},
   "outputs": [
    {
     "name": "stdout",
     "output_type": "stream",
     "text": [
      "initialize network with xavier\n",
      "initialize network with xavier\n",
      "model [PreTrainModel] was created\n",
      "loading the model from ./checkpoints/pretrain_weights_instance/Nan.pt\n",
      "loading the model from ./checkpoints/pretrain_weights_instance/Nan.pt\n",
      "loading the optimizer from ./checkpoints/pretrain_weights_instance/Nan.pt\n",
      "loading the optimizer from ./checkpoints/pretrain_weights_instance/Nan.pt\n",
      "---------- Networks initialized -------------\n",
      "[Network netG_A] Total number of parameters : 11.620 M\n",
      "[Network netG_B] Total number of parameters : 11.620 M\n",
      "-----------------------------------------------\n"
     ]
    }
   ],
   "source": [
    "model = create_model(opt)      # create a model given opt.model and other options\n",
    "model.setup()"
   ]
  },
  {
   "cell_type": "code",
   "execution_count": 9,
   "metadata": {},
   "outputs": [],
   "source": [
    "device = torch.device('cuda:0')\n",
    "criterionL1 = nn.L1Loss()"
   ]
  },
  {
   "cell_type": "code",
   "execution_count": 10,
   "metadata": {},
   "outputs": [],
   "source": [
    "syn_rgb = torch.load('./checkpoints/pretrain_weights_instance/img_B.pt').to(device)\n",
    "syn_depth = torch.load('./checkpoints/pretrain_weights_instance/depth_B.pt').to(device)\n",
    "norm = model.surf_normals(syn_depth)"
   ]
  },
  {
   "cell_type": "code",
   "execution_count": 11,
   "metadata": {},
   "outputs": [],
   "source": [
    "syn_rgb[5] = torch.rand((3,256,256))"
   ]
  },
  {
   "cell_type": "code",
   "execution_count": 12,
   "metadata": {},
   "outputs": [],
   "source": [
    "syn_depth[5] = torch.rand((1,256,256))"
   ]
  },
  {
   "cell_type": "code",
   "execution_count": 13,
   "metadata": {},
   "outputs": [],
   "source": [
    "fake_depth = model.netG_B(syn_depth, syn_rgb)\n",
    "fake_norm = model.surf_normals(fake_depth)"
   ]
  },
  {
   "cell_type": "code",
   "execution_count": 19,
   "metadata": {},
   "outputs": [],
   "source": [
    "inpt_d = torch.ones((1,1,256,256)) * 1\n",
    "inpt_d = inpt_d.to(device)\n",
    "inpt_r = torch.ones((1,3,256,256)) *  0.6549\n",
    "fake_d = model.netG_B(inpt_d, inpt_r.to(device))\n",
    "fake_n = model.surf_normals(fake_d)"
   ]
  },
  {
   "cell_type": "code",
   "execution_count": 20,
   "metadata": {},
   "outputs": [],
   "source": [
    "loss = criterionL1(inpt_d, fake_d) #+  10 * criterionL1(norm, fake_norm)\n",
    "loss.backward()"
   ]
  },
  {
   "cell_type": "code",
   "execution_count": 14,
   "metadata": {},
   "outputs": [],
   "source": [
    "loss = criterionL1(syn_depth, fake_depth) #+  10 * criterionL1(norm, fake_norm)\n",
    "loss.backward()"
   ]
  },
  {
   "cell_type": "code",
   "execution_count": 15,
   "metadata": {},
   "outputs": [],
   "source": [
    "layer = []\n",
    "for n, p in model.netG_B.module.named_parameters():\n",
    "    layer.append(n)"
   ]
  },
  {
   "cell_type": "code",
   "execution_count": 16,
   "metadata": {},
   "outputs": [],
   "source": [
    "param_stat = pd.DataFrame(index=layer, columns=['mean_w', 'max_w', 'min_w', 'mean_g', 'max_g', 'min_g'])"
   ]
  },
  {
   "cell_type": "code",
   "execution_count": 17,
   "metadata": {},
   "outputs": [],
   "source": [
    "for n, p in model.netG_B.module.named_parameters():\n",
    "    param_stat['mean_w'][n] = p.mean().item()\n",
    "    param_stat['max_w'][n] = p.max().item()\n",
    "    param_stat['min_w'][n] = p.min().item()\n",
    "    \n",
    "    param_stat['mean_g'][n] = p.grad.mean().item()\n",
    "    param_stat['max_g'][n] = p.grad.max().item()\n",
    "    param_stat['min_g'][n] = p.grad.min().item()"
   ]
  },
  {
   "cell_type": "code",
   "execution_count": null,
   "metadata": {},
   "outputs": [],
   "source": [
    "model.netG_B.module"
   ]
  },
  {
   "cell_type": "code",
   "execution_count": 20,
   "metadata": {},
   "outputs": [
    {
     "data": {
      "text/html": [
       "<div>\n",
       "<style scoped>\n",
       "    .dataframe tbody tr th:only-of-type {\n",
       "        vertical-align: middle;\n",
       "    }\n",
       "\n",
       "    .dataframe tbody tr th {\n",
       "        vertical-align: top;\n",
       "    }\n",
       "\n",
       "    .dataframe thead th {\n",
       "        text-align: right;\n",
       "    }\n",
       "</style>\n",
       "<table border=\"1\" class=\"dataframe\">\n",
       "  <thead>\n",
       "    <tr style=\"text-align: right;\">\n",
       "      <th></th>\n",
       "      <th>mean_w</th>\n",
       "      <th>max_w</th>\n",
       "      <th>min_w</th>\n",
       "      <th>mean_g</th>\n",
       "      <th>max_g</th>\n",
       "      <th>min_g</th>\n",
       "    </tr>\n",
       "  </thead>\n",
       "  <tbody>\n",
       "    <tr>\n",
       "      <th>enc_img.model.0.weight</th>\n",
       "      <td>-0.00177555</td>\n",
       "      <td>0.201155</td>\n",
       "      <td>-0.173474</td>\n",
       "      <td>-3.73289e-05</td>\n",
       "      <td>0.000800824</td>\n",
       "      <td>-0.00103148</td>\n",
       "    </tr>\n",
       "    <tr>\n",
       "      <th>enc_img.model.1.weight</th>\n",
       "      <td>0.999768</td>\n",
       "      <td>1.0096</td>\n",
       "      <td>0.990852</td>\n",
       "      <td>-2.54118e-07</td>\n",
       "      <td>0.000285262</td>\n",
       "      <td>-0.000254513</td>\n",
       "    </tr>\n",
       "    <tr>\n",
       "      <th>enc_img.model.1.bias</th>\n",
       "      <td>-0.00351894</td>\n",
       "      <td>0.00354256</td>\n",
       "      <td>-0.00901579</td>\n",
       "      <td>-2.41883e-05</td>\n",
       "      <td>0.000207401</td>\n",
       "      <td>-0.000263856</td>\n",
       "    </tr>\n",
       "    <tr>\n",
       "      <th>enc_img.model.3.weight</th>\n",
       "      <td>0.0018301</td>\n",
       "      <td>0.203237</td>\n",
       "      <td>-0.210798</td>\n",
       "      <td>2.29939e-06</td>\n",
       "      <td>0.000340727</td>\n",
       "      <td>-0.000268511</td>\n",
       "    </tr>\n",
       "    <tr>\n",
       "      <th>enc_img.model.4.weight</th>\n",
       "      <td>0.999304</td>\n",
       "      <td>1.01329</td>\n",
       "      <td>0.984043</td>\n",
       "      <td>-5.85856e-08</td>\n",
       "      <td>0.000140873</td>\n",
       "      <td>-0.000106548</td>\n",
       "    </tr>\n",
       "    <tr>\n",
       "      <th>enc_img.model.4.bias</th>\n",
       "      <td>-0.000512854</td>\n",
       "      <td>0.00627173</td>\n",
       "      <td>-0.00820378</td>\n",
       "      <td>-1.8883e-05</td>\n",
       "      <td>0.000139586</td>\n",
       "      <td>-0.000144153</td>\n",
       "    </tr>\n",
       "    <tr>\n",
       "      <th>enc_img.model.6.weight</th>\n",
       "      <td>-0.000605691</td>\n",
       "      <td>0.173845</td>\n",
       "      <td>-0.161521</td>\n",
       "      <td>1.67918e-06</td>\n",
       "      <td>0.000378504</td>\n",
       "      <td>-0.000279367</td>\n",
       "    </tr>\n",
       "    <tr>\n",
       "      <th>enc_img.model.7.weight</th>\n",
       "      <td>0.982175</td>\n",
       "      <td>0.994498</td>\n",
       "      <td>0.969237</td>\n",
       "      <td>9.41587e-06</td>\n",
       "      <td>0.000301031</td>\n",
       "      <td>-0.000436693</td>\n",
       "    </tr>\n",
       "    <tr>\n",
       "      <th>enc_img.model.7.bias</th>\n",
       "      <td>-0.00958517</td>\n",
       "      <td>-0.000464395</td>\n",
       "      <td>-0.020035</td>\n",
       "      <td>3.26628e-06</td>\n",
       "      <td>0.000285334</td>\n",
       "      <td>-0.0002816</td>\n",
       "    </tr>\n",
       "    <tr>\n",
       "      <th>enc_depth.model.0.weight</th>\n",
       "      <td>0.00142345</td>\n",
       "      <td>0.155788</td>\n",
       "      <td>-0.183711</td>\n",
       "      <td>-0.0021527</td>\n",
       "      <td>0.00461226</td>\n",
       "      <td>-0.0169174</td>\n",
       "    </tr>\n",
       "    <tr>\n",
       "      <th>enc_depth.model.1.weight</th>\n",
       "      <td>0.999415</td>\n",
       "      <td>1.00582</td>\n",
       "      <td>0.984131</td>\n",
       "      <td>-7.88139e-06</td>\n",
       "      <td>0.00347631</td>\n",
       "      <td>-0.00576234</td>\n",
       "    </tr>\n",
       "    <tr>\n",
       "      <th>enc_depth.model.1.bias</th>\n",
       "      <td>-0.00710056</td>\n",
       "      <td>0.0160944</td>\n",
       "      <td>-0.0242593</td>\n",
       "      <td>-0.000480773</td>\n",
       "      <td>0.00128679</td>\n",
       "      <td>-0.00453155</td>\n",
       "    </tr>\n",
       "    <tr>\n",
       "      <th>enc_depth.model.3.weight</th>\n",
       "      <td>-0.000153011</td>\n",
       "      <td>0.1978</td>\n",
       "      <td>-0.206482</td>\n",
       "      <td>9.14219e-05</td>\n",
       "      <td>0.00407622</td>\n",
       "      <td>-0.006748</td>\n",
       "    </tr>\n",
       "    <tr>\n",
       "      <th>enc_depth.model.4.weight</th>\n",
       "      <td>0.999395</td>\n",
       "      <td>1.00839</td>\n",
       "      <td>0.986959</td>\n",
       "      <td>6.39959e-06</td>\n",
       "      <td>0.00305167</td>\n",
       "      <td>-0.00159792</td>\n",
       "    </tr>\n",
       "    <tr>\n",
       "      <th>enc_depth.model.4.bias</th>\n",
       "      <td>-0.00796412</td>\n",
       "      <td>0.0282178</td>\n",
       "      <td>-0.0404997</td>\n",
       "      <td>-6.14925e-05</td>\n",
       "      <td>0.00270204</td>\n",
       "      <td>-0.00257214</td>\n",
       "    </tr>\n",
       "    <tr>\n",
       "      <th>enc_depth.model.6.weight</th>\n",
       "      <td>0.000298538</td>\n",
       "      <td>0.153276</td>\n",
       "      <td>-0.167221</td>\n",
       "      <td>6.10089e-08</td>\n",
       "      <td>0.00265014</td>\n",
       "      <td>-0.00171054</td>\n",
       "    </tr>\n",
       "    <tr>\n",
       "      <th>enc_depth.model.7.weight</th>\n",
       "      <td>1.00604</td>\n",
       "      <td>1.03107</td>\n",
       "      <td>0.988741</td>\n",
       "      <td>-8.4524e-05</td>\n",
       "      <td>0.000840132</td>\n",
       "      <td>-0.00324009</td>\n",
       "    </tr>\n",
       "    <tr>\n",
       "      <th>enc_depth.model.7.bias</th>\n",
       "      <td>-0.00709974</td>\n",
       "      <td>0.0199748</td>\n",
       "      <td>-0.0436474</td>\n",
       "      <td>-6.5456e-05</td>\n",
       "      <td>0.000650002</td>\n",
       "      <td>-0.0018797</td>\n",
       "    </tr>\n",
       "    <tr>\n",
       "      <th>bottlenec.model.0.conv_block.0.weight</th>\n",
       "      <td>0.000324743</td>\n",
       "      <td>0.14515</td>\n",
       "      <td>-0.129372</td>\n",
       "      <td>2.78122e-06</td>\n",
       "      <td>0.000754001</td>\n",
       "      <td>-0.000792936</td>\n",
       "    </tr>\n",
       "    <tr>\n",
       "      <th>bottlenec.model.0.conv_block.1.weight</th>\n",
       "      <td>0.99933</td>\n",
       "      <td>1.0152</td>\n",
       "      <td>0.986155</td>\n",
       "      <td>-1.33476e-07</td>\n",
       "      <td>0.000307978</td>\n",
       "      <td>-0.000993308</td>\n",
       "    </tr>\n",
       "    <tr>\n",
       "      <th>bottlenec.model.0.conv_block.1.bias</th>\n",
       "      <td>-0.00597596</td>\n",
       "      <td>0.0287952</td>\n",
       "      <td>-0.0379428</td>\n",
       "      <td>-1.54858e-05</td>\n",
       "      <td>0.000327157</td>\n",
       "      <td>-0.000667952</td>\n",
       "    </tr>\n",
       "  </tbody>\n",
       "</table>\n",
       "</div>"
      ],
      "text/plain": [
       "                                            mean_w        max_w       min_w  \\\n",
       "enc_img.model.0.weight                 -0.00177555     0.201155   -0.173474   \n",
       "enc_img.model.1.weight                    0.999768       1.0096    0.990852   \n",
       "enc_img.model.1.bias                   -0.00351894   0.00354256 -0.00901579   \n",
       "enc_img.model.3.weight                   0.0018301     0.203237   -0.210798   \n",
       "enc_img.model.4.weight                    0.999304      1.01329    0.984043   \n",
       "enc_img.model.4.bias                  -0.000512854   0.00627173 -0.00820378   \n",
       "enc_img.model.6.weight                -0.000605691     0.173845   -0.161521   \n",
       "enc_img.model.7.weight                    0.982175     0.994498    0.969237   \n",
       "enc_img.model.7.bias                   -0.00958517 -0.000464395   -0.020035   \n",
       "enc_depth.model.0.weight                0.00142345     0.155788   -0.183711   \n",
       "enc_depth.model.1.weight                  0.999415      1.00582    0.984131   \n",
       "enc_depth.model.1.bias                 -0.00710056    0.0160944  -0.0242593   \n",
       "enc_depth.model.3.weight              -0.000153011       0.1978   -0.206482   \n",
       "enc_depth.model.4.weight                  0.999395      1.00839    0.986959   \n",
       "enc_depth.model.4.bias                 -0.00796412    0.0282178  -0.0404997   \n",
       "enc_depth.model.6.weight               0.000298538     0.153276   -0.167221   \n",
       "enc_depth.model.7.weight                   1.00604      1.03107    0.988741   \n",
       "enc_depth.model.7.bias                 -0.00709974    0.0199748  -0.0436474   \n",
       "bottlenec.model.0.conv_block.0.weight  0.000324743      0.14515   -0.129372   \n",
       "bottlenec.model.0.conv_block.1.weight      0.99933       1.0152    0.986155   \n",
       "bottlenec.model.0.conv_block.1.bias    -0.00597596    0.0287952  -0.0379428   \n",
       "\n",
       "                                            mean_g        max_g        min_g  \n",
       "enc_img.model.0.weight                -3.73289e-05  0.000800824  -0.00103148  \n",
       "enc_img.model.1.weight                -2.54118e-07  0.000285262 -0.000254513  \n",
       "enc_img.model.1.bias                  -2.41883e-05  0.000207401 -0.000263856  \n",
       "enc_img.model.3.weight                 2.29939e-06  0.000340727 -0.000268511  \n",
       "enc_img.model.4.weight                -5.85856e-08  0.000140873 -0.000106548  \n",
       "enc_img.model.4.bias                   -1.8883e-05  0.000139586 -0.000144153  \n",
       "enc_img.model.6.weight                 1.67918e-06  0.000378504 -0.000279367  \n",
       "enc_img.model.7.weight                 9.41587e-06  0.000301031 -0.000436693  \n",
       "enc_img.model.7.bias                   3.26628e-06  0.000285334   -0.0002816  \n",
       "enc_depth.model.0.weight                -0.0021527   0.00461226   -0.0169174  \n",
       "enc_depth.model.1.weight              -7.88139e-06   0.00347631  -0.00576234  \n",
       "enc_depth.model.1.bias                -0.000480773   0.00128679  -0.00453155  \n",
       "enc_depth.model.3.weight               9.14219e-05   0.00407622    -0.006748  \n",
       "enc_depth.model.4.weight               6.39959e-06   0.00305167  -0.00159792  \n",
       "enc_depth.model.4.bias                -6.14925e-05   0.00270204  -0.00257214  \n",
       "enc_depth.model.6.weight               6.10089e-08   0.00265014  -0.00171054  \n",
       "enc_depth.model.7.weight               -8.4524e-05  0.000840132  -0.00324009  \n",
       "enc_depth.model.7.bias                 -6.5456e-05  0.000650002   -0.0018797  \n",
       "bottlenec.model.0.conv_block.0.weight  2.78122e-06  0.000754001 -0.000792936  \n",
       "bottlenec.model.0.conv_block.1.weight -1.33476e-07  0.000307978 -0.000993308  \n",
       "bottlenec.model.0.conv_block.1.bias   -1.54858e-05  0.000327157 -0.000667952  "
      ]
     },
     "execution_count": 20,
     "metadata": {},
     "output_type": "execute_result"
    }
   ],
   "source": [
    "param_stat[:21]"
   ]
  },
  {
   "cell_type": "code",
   "execution_count": 108,
   "metadata": {},
   "outputs": [
    {
     "data": {
      "text/plain": [
       "<matplotlib.image.AxesImage at 0x7f500ff78390>"
      ]
     },
     "execution_count": 108,
     "metadata": {},
     "output_type": "execute_result"
    },
    {
     "data": {
      "image/png": "[encoded data removed]",
      "text/plain": [
       "<Figure size 432x288 with 1 Axes>"
      ]
     },
     "metadata": {
      "needs_background": "light"
     },
     "output_type": "display_data"
    }
   ],
   "source": [
    "plt.imshow(syn_depth[5,0].cpu().data,cmap=plt.get_cmap('RdYlBu'))"
   ]
  },
  {
   "cell_type": "code",
   "execution_count": 109,
   "metadata": {},
   "outputs": [
    {
     "data": {
      "text/plain": [
       "tensor([-1.], device='cuda:0')"
      ]
     },
     "execution_count": 109,
     "metadata": {},
     "output_type": "execute_result"
    }
   ],
   "source": [
    "torch.unique(syn_depth[5,0])"
   ]
  },
  {
   "cell_type": "code",
   "execution_count": 9,
   "metadata": {},
   "outputs": [
    {
     "data": {
      "text/plain": [
       "<matplotlib.image.AxesImage at 0x7f1bed0a6550>"
      ]
     },
     "execution_count": 9,
     "metadata": {},
     "output_type": "execute_result"
    },
    {
     "data": {
      "image/png": "[encoded data removed]",
      "text/plain": [
       "<Figure size 432x288 with 1 Axes>"
      ]
     },
     "metadata": {
      "needs_background": "light"
     },
     "output_type": "display_data"
    }
   ],
   "source": [
    "plt.imshow(syn_rgb[5,0].cpu())"
   ]
  },
  {
   "cell_type": "code",
   "execution_count": 12,
   "metadata": {},
   "outputs": [
    {
     "data": {
      "text/plain": [
       "tensor([0.6549], device='cuda:0')"
      ]
     },
     "execution_count": 12,
     "metadata": {},
     "output_type": "execute_result"
    }
   ],
   "source": [
    "torch.unique(syn_rgb[5,0])"
   ]
  },
  {
   "cell_type": "code",
   "execution_count": 124,
   "metadata": {},
   "outputs": [],
   "source": [
    "class Net(nn.Module):\n",
    "    def __init__(self):\n",
    "        super(Net, self).__init__()\n",
    "        model = [\n",
    "            nn.Conv2d(1, 3, kernel_size=3, stride=1, padding=1, dilation=1, padding_mode='replicate', bias=False),\n",
    "            nn.InstanceNorm2d(3, affine=True),\n",
    "            nn.ReLU(True),\n",
    "            nn.Conv2d(3, 1, kernel_size=3, stride=1, padding=1, dilation=1, padding_mode='replicate', bias=True),\n",
    "            nn.Tanh()\n",
    "        ]\n",
    "        self.model = nn.Sequential(*model)\n",
    "    def forward(self, x):\n",
    "        return self.model(x)"
   ]
  },
  {
   "cell_type": "code",
   "execution_count": 125,
   "metadata": {},
   "outputs": [],
   "source": [
    "net  = Net()\n",
    "criterionL1 = nn.L1Loss()"
   ]
  },
  {
   "cell_type": "code",
   "execution_count": 126,
   "metadata": {},
   "outputs": [
    {
     "name": "stdout",
     "output_type": "stream",
     "text": [
      "initialize network with xavier\n",
      "initialize network with xavier\n",
      "initialize network with xavier\n",
      "initialize network with xavier\n",
      "initialize network with xavier\n",
      "initialize network with xavier\n",
      "initialize network with xavier\n"
     ]
    },
    {
     "data": {
      "text/plain": [
       "Net(\n",
       "  (model): Sequential(\n",
       "    (0): Conv2d(1, 3, kernel_size=(3, 3), stride=(1, 1), padding=(1, 1), bias=False, padding_mode=replicate)\n",
       "    (1): InstanceNorm2d(3, eps=1e-05, momentum=0.1, affine=True, track_running_stats=False)\n",
       "    (2): ReLU(inplace=True)\n",
       "    (3): Conv2d(3, 1, kernel_size=(3, 3), stride=(1, 1), padding=(1, 1), padding_mode=replicate)\n",
       "    (4): Tanh()\n",
       "  )\n",
       ")"
      ]
     },
     "execution_count": 126,
     "metadata": {},
     "output_type": "execute_result"
    }
   ],
   "source": [
    "from torch.nn import init\n",
    "init_type='xavier'\n",
    "init_gain='relu'\n",
    "param=0.2\n",
    "def init_func(m):  # define the initialization function\n",
    "    classname = m.__class__.__name__\n",
    "    if hasattr(m, 'weight') and (classname.find('Conv') != -1 or classname.find('Linear') != -1):\n",
    "        if init_type == 'normal':\n",
    "            init.normal_(m.weight.data, mean=0.0, std=0.02)\n",
    "        elif init_type == 'xavier':\n",
    "            init.xavier_normal_(m.weight.data, gain=init.calculate_gain(init_gain, param))#\n",
    "        elif init_type == 'kaiming':\n",
    "            init.kaiming_normal_(m.weight.data, a=0, mode='fan_in')\n",
    "        elif init_type == 'orthogonal':\n",
    "            init.orthogonal_(m.weight.data, gain=init.calculate_gain(init_gain, param))\n",
    "        else:\n",
    "            raise NotImplementedError('initialization method [%s] is not implemented' % init_type)\n",
    "        if hasattr(m, 'bias') and m.bias is not None:\n",
    "            init.constant_(m.bias.data, 0.0)\n",
    "    elif classname.find('BatchNorm2d') != -1:  # BatchNorm Layer's weight is not a matrix; only normal distribution applies.\n",
    "        init.normal_(m.weight.data, mean=1.0, std=0.02)\n",
    "        init.constant_(m.bias.data, 0.0)\n",
    "    print('initialize network with %s' % init_type)\n",
    "net.apply(init_func)  # apply the initialization function <init_func>"
   ]
  },
  {
   "cell_type": "code",
   "execution_count": 56,
   "metadata": {},
   "outputs": [],
   "source": [
    "i1 = torch.ones((1,1,3,3))\n",
    "i2 = torch.rand((1,1,3,3))\n",
    "# input = torch.cat((i1,i2), dim=0)\n",
    "input = i1"
   ]
  },
  {
   "cell_type": "code",
   "execution_count": 57,
   "metadata": {},
   "outputs": [
    {
     "ename": "NameError",
     "evalue": "name 'net' is not defined",
     "output_type": "error",
     "traceback": [
      "\u001b[0;31m---------------------------------------------------------------------------\u001b[0m",
      "\u001b[0;31mNameError\u001b[0m                                 Traceback (most recent call last)",
      "\u001b[0;32m<ipython-input-57-69ad1aa6953b>\u001b[0m in \u001b[0;36m<module>\u001b[0;34m\u001b[0m\n\u001b[0;32m----> 1\u001b[0;31m \u001b[0mout\u001b[0m \u001b[0;34m=\u001b[0m \u001b[0mnet\u001b[0m\u001b[0;34m(\u001b[0m\u001b[0minput\u001b[0m\u001b[0;34m)\u001b[0m\u001b[0;34m\u001b[0m\u001b[0;34m\u001b[0m\u001b[0m\n\u001b[0m",
      "\u001b[0;31mNameError\u001b[0m: name 'net' is not defined"
     ]
    }
   ],
   "source": [
    "out = net(input)"
   ]
  },
  {
   "cell_type": "code",
   "execution_count": 129,
   "metadata": {},
   "outputs": [
    {
     "data": {
      "text/plain": [
       "tensor([[[[0., 0., 0.],\n",
       "          [0., 0., 0.],\n",
       "          [0., 0., 0.]]]], grad_fn=<TanhBackward>)"
      ]
     },
     "execution_count": 129,
     "metadata": {},
     "output_type": "execute_result"
    }
   ],
   "source": [
    "out"
   ]
  },
  {
   "cell_type": "code",
   "execution_count": 130,
   "metadata": {},
   "outputs": [],
   "source": [
    "loss = criterionL1(out, input)"
   ]
  },
  {
   "cell_type": "code",
   "execution_count": 131,
   "metadata": {},
   "outputs": [],
   "source": [
    "loss.backward()"
   ]
  },
  {
   "cell_type": "code",
   "execution_count": 132,
   "metadata": {},
   "outputs": [
    {
     "data": {
      "text/plain": [
       "Parameter containing:\n",
       "tensor([1., 1., 1.], requires_grad=True)"
      ]
     },
     "execution_count": 132,
     "metadata": {},
     "output_type": "execute_result"
    }
   ],
   "source": [
    "net.model[1].weight"
   ]
  },
  {
   "cell_type": "code",
   "execution_count": null,
   "metadata": {},
   "outputs": [],
   "source": []
  },
  {
   "cell_type": "code",
   "execution_count": 58,
   "metadata": {},
   "outputs": [],
   "source": [
    "i1 = torch.ones((1,2,3,3), dtype=torch.float32, requires_grad=True)\n",
    "i2 = torch.rand((1,2,3,3), dtype=torch.float32, requires_grad=True)\n",
    "x = torch.cat((i1,i2), dim=0)\n",
    "x.retain_grad()\n",
    "gamma = torch.ones((2), dtype=torch.float32, requires_grad=True)\n",
    "beta = torch.zeros((2), dtype=torch.float32, requires_grad=True)\n",
    "gamma = gamma.unsqueeze(0).unsqueeze(2).unsqueeze(3)\n",
    "beta = beta.unsqueeze(0).unsqueeze(2).unsqueeze(3)"
   ]
  },
  {
   "cell_type": "code",
   "execution_count": 59,
   "metadata": {},
   "outputs": [
    {
     "data": {
      "text/plain": [
       "tensor([[[[1.0000, 1.0000, 1.0000],\n",
       "          [1.0000, 1.0000, 1.0000],\n",
       "          [1.0000, 1.0000, 1.0000]],\n",
       "\n",
       "         [[1.0000, 1.0000, 1.0000],\n",
       "          [1.0000, 1.0000, 1.0000],\n",
       "          [1.0000, 1.0000, 1.0000]]],\n",
       "\n",
       "\n",
       "        [[[0.5802, 0.8318, 0.2311],\n",
       "          [0.8148, 0.7508, 0.8666],\n",
       "          [0.8199, 0.8049, 0.8736]],\n",
       "\n",
       "         [[0.3010, 0.7711, 0.0701],\n",
       "          [0.5419, 0.8766, 0.8417],\n",
       "          [0.1548, 0.3816, 0.9937]]]], grad_fn=<CatBackward>)"
      ]
     },
     "execution_count": 59,
     "metadata": {},
     "output_type": "execute_result"
    }
   ],
   "source": [
    "x"
   ]
  },
  {
   "cell_type": "code",
   "execution_count": 60,
   "metadata": {},
   "outputs": [],
   "source": [
    "mean = torch.mean(x, dim=(2,3), keepdim=True)\n",
    "mean.retain_grad()"
   ]
  },
  {
   "cell_type": "code",
   "execution_count": 61,
   "metadata": {},
   "outputs": [
    {
     "data": {
      "text/plain": [
       "torch.Size([2, 2, 1, 1])"
      ]
     },
     "execution_count": 61,
     "metadata": {},
     "output_type": "execute_result"
    }
   ],
   "source": [
    "mean.shape"
   ]
  },
  {
   "cell_type": "code",
   "execution_count": 62,
   "metadata": {},
   "outputs": [],
   "source": [
    "sub = x - mean\n",
    "sub.retain_grad()\n",
    "\n",
    "sub1 = sub*1\n",
    "sub1.retain_grad()\n",
    "sub2 = sub*1\n",
    "sub2.retain_grad()"
   ]
  },
  {
   "cell_type": "code",
   "execution_count": 63,
   "metadata": {},
   "outputs": [],
   "source": [
    "powsub = torch.pow(sub2,2)\n",
    "powsub.retain_grad()"
   ]
  },
  {
   "cell_type": "code",
   "execution_count": 64,
   "metadata": {},
   "outputs": [],
   "source": [
    "var = torch.mean(powsub, dim=(2,3), keepdim=True)\n",
    "var.retain_grad()"
   ]
  },
  {
   "cell_type": "code",
   "execution_count": 65,
   "metadata": {},
   "outputs": [],
   "source": [
    "std = torch.sqrt(var + 1e-05)\n",
    "std.retain_grad()"
   ]
  },
  {
   "cell_type": "code",
   "execution_count": 66,
   "metadata": {},
   "outputs": [],
   "source": [
    "std1 = 1 / std\n",
    "std1.retain_grad()"
   ]
  },
  {
   "cell_type": "code",
   "execution_count": 67,
   "metadata": {},
   "outputs": [],
   "source": [
    "x_h = sub1 * std1\n",
    "x_h.retain_grad()"
   ]
  },
  {
   "cell_type": "code",
   "execution_count": 68,
   "metadata": {},
   "outputs": [],
   "source": [
    "out = x_h * gamma + beta"
   ]
  },
  {
   "cell_type": "code",
   "execution_count": 69,
   "metadata": {},
   "outputs": [
    {
     "data": {
      "text/plain": [
       "tensor([[[[ 0.0000,  0.0000,  0.0000],\n",
       "          [ 0.0000,  0.0000,  0.0000],\n",
       "          [ 0.0000,  0.0000,  0.0000]],\n",
       "\n",
       "         [[ 0.0000,  0.0000,  0.0000],\n",
       "          [ 0.0000,  0.0000,  0.0000],\n",
       "          [ 0.0000,  0.0000,  0.0000]]],\n",
       "\n",
       "\n",
       "        [[[-0.7700,  0.5198, -2.5600],\n",
       "          [ 0.4329,  0.1045,  0.6980],\n",
       "          [ 0.4590,  0.3818,  0.7340]],\n",
       "\n",
       "         [[-0.7752,  0.6997, -1.4993],\n",
       "          [-0.0193,  1.0306,  0.9212],\n",
       "          [-1.2337, -0.5221,  1.3981]]]], grad_fn=<MulBackward0>)"
      ]
     },
     "execution_count": 69,
     "metadata": {},
     "output_type": "execute_result"
    }
   ],
   "source": [
    "out"
   ]
  },
  {
   "cell_type": "code",
   "execution_count": 70,
   "metadata": {},
   "outputs": [],
   "source": [
    "grad =torch.rand((2,2,3,3))\n",
    "out.backward(grad)"
   ]
  },
  {
   "cell_type": "code",
   "execution_count": 71,
   "metadata": {},
   "outputs": [
    {
     "data": {
      "text/plain": [
       "True"
      ]
     },
     "execution_count": 71,
     "metadata": {},
     "output_type": "execute_result"
    }
   ],
   "source": [
    "torch.allclose(x_h.grad, grad * gamma)"
   ]
  },
  {
   "cell_type": "code",
   "execution_count": 72,
   "metadata": {},
   "outputs": [
    {
     "data": {
      "text/plain": [
       "True"
      ]
     },
     "execution_count": 72,
     "metadata": {},
     "output_type": "execute_result"
    }
   ],
   "source": [
    "torch.allclose(sub1.grad, gamma*grad*std1)"
   ]
  },
  {
   "cell_type": "code",
   "execution_count": 73,
   "metadata": {},
   "outputs": [
    {
     "data": {
      "text/plain": [
       "True"
      ]
     },
     "execution_count": 73,
     "metadata": {},
     "output_type": "execute_result"
    }
   ],
   "source": [
    "torch.allclose(std1.grad, torch.sum(gamma*grad*sub1, dim=(2,3), keepdim=True))"
   ]
  },
  {
   "cell_type": "code",
   "execution_count": 74,
   "metadata": {},
   "outputs": [
    {
     "data": {
      "text/plain": [
       "True"
      ]
     },
     "execution_count": 74,
     "metadata": {},
     "output_type": "execute_result"
    }
   ],
   "source": [
    "torch.allclose(std.grad, -1/(var + 1e-05)*torch.sum(gamma*grad*sub1, dim=(2,3), keepdim=True))"
   ]
  },
  {
   "cell_type": "code",
   "execution_count": 75,
   "metadata": {},
   "outputs": [
    {
     "data": {
      "text/plain": [
       "True"
      ]
     },
     "execution_count": 75,
     "metadata": {},
     "output_type": "execute_result"
    }
   ],
   "source": [
    "torch.allclose(var.grad, -1/(var + 1e-05)*torch.sum(gamma*grad*sub1, dim=(2,3), keepdim=True)*0.5*1/(torch.sqrt(var + 1e-05)))"
   ]
  },
  {
   "cell_type": "code",
   "execution_count": 76,
   "metadata": {},
   "outputs": [
    {
     "data": {
      "text/plain": [
       "True"
      ]
     },
     "execution_count": 76,
     "metadata": {},
     "output_type": "execute_result"
    }
   ],
   "source": [
    "torch.allclose(powsub.grad, 1/(3*3)*(-1)/(var + 1e-05)*torch.sum(gamma*grad*sub1, dim=(2,3), keepdim=True)*0.5*1/(torch.sqrt(var + 1e-05)))"
   ]
  },
  {
   "cell_type": "code",
   "execution_count": 77,
   "metadata": {},
   "outputs": [
    {
     "data": {
      "text/plain": [
       "True"
      ]
     },
     "execution_count": 77,
     "metadata": {},
     "output_type": "execute_result"
    }
   ],
   "source": [
    "torch.allclose(sub2.grad, 2*sub2*1/(3*3)*(-1)/(var + 1e-05)*torch.sum(gamma*grad*sub1, dim=(2,3), keepdim=True)*0.5*1/(torch.sqrt(var + 1e-05)))"
   ]
  },
  {
   "cell_type": "code",
   "execution_count": 78,
   "metadata": {},
   "outputs": [
    {
     "data": {
      "text/plain": [
       "True"
      ]
     },
     "execution_count": 78,
     "metadata": {},
     "output_type": "execute_result"
    }
   ],
   "source": [
    "torch.allclose(sub.grad,gamma*grad*std1 + 2*sub2*1/(3*3)*(-1)/(var + 1e-05)*torch.sum(gamma*grad*sub1, dim=(2,3), keepdim=True)*0.5*1/(torch.sqrt(var + 1e-05)))"
   ]
  },
  {
   "cell_type": "code",
   "execution_count": 79,
   "metadata": {},
   "outputs": [],
   "source": [
    "grad_sub = gamma*grad*std1 + 2*sub2*1/(3*3)*(-1)/(var + 1e-05)*torch.sum(gamma*grad*sub1, dim=(2,3), keepdim=True)*0.5*1/(torch.sqrt(var + 1e-05))"
   ]
  },
  {
   "cell_type": "code",
   "execution_count": 80,
   "metadata": {},
   "outputs": [
    {
     "data": {
      "text/plain": [
       "tensor([[[[2.0060e+02, 2.5289e+02, 2.6611e+02],\n",
       "          [8.9893e+01, 3.7512e+01, 1.2471e+02],\n",
       "          [7.1248e+01, 8.2014e+01, 1.8256e+02]],\n",
       "\n",
       "         [[2.9461e+01, 1.7910e+02, 1.3853e+02],\n",
       "          [3.3659e+01, 2.3346e+02, 1.4518e+02],\n",
       "          [1.6966e+02, 1.4767e+02, 2.5728e+01]]],\n",
       "\n",
       "\n",
       "        [[[3.1451e-01, 2.0462e+00, 4.7184e+00],\n",
       "          [1.9679e+00, 2.8213e+00, 8.7850e-01],\n",
       "          [1.2349e+00, 1.9010e+00, 3.5137e+00]],\n",
       "\n",
       "         [[2.7046e-02, 3.1078e+00, 1.0873e+00],\n",
       "          [6.7400e-01, 3.7439e-01, 1.7099e+00],\n",
       "          [1.7944e+00, 1.8242e+00, 6.6631e-01]]]], grad_fn=<MulBackward0>)"
      ]
     },
     "execution_count": 80,
     "metadata": {},
     "output_type": "execute_result"
    }
   ],
   "source": [
    " gamma*grad*std1"
   ]
  },
  {
   "cell_type": "code",
   "execution_count": 81,
   "metadata": {},
   "outputs": [
    {
     "data": {
      "text/plain": [
       "tensor([[[[-0.0000e+00, -0.0000e+00, -0.0000e+00],\n",
       "          [-0.0000e+00, -0.0000e+00, -0.0000e+00],\n",
       "          [-0.0000e+00, -0.0000e+00, -0.0000e+00]],\n",
       "\n",
       "         [[-0.0000e+00, -0.0000e+00, -0.0000e+00],\n",
       "          [-0.0000e+00, -0.0000e+00, -0.0000e+00],\n",
       "          [-0.0000e+00, -0.0000e+00, -0.0000e+00]]],\n",
       "\n",
       "\n",
       "        [[[-4.8136e-01,  3.2495e-01, -1.6003e+00],\n",
       "          [ 2.7061e-01,  6.5298e-02,  4.3637e-01],\n",
       "          [ 2.8696e-01,  2.3865e-01,  4.5885e-01]],\n",
       "\n",
       "         [[ 2.0398e-02, -1.8411e-02,  3.9451e-02],\n",
       "          [ 5.0798e-04, -2.7118e-02, -2.4239e-02],\n",
       "          [ 3.2463e-02,  1.3737e-02, -3.6788e-02]]]], grad_fn=<DivBackward0>)"
      ]
     },
     "execution_count": 81,
     "metadata": {},
     "output_type": "execute_result"
    }
   ],
   "source": [
    "2*sub2*1/(3*3)*(-1)/(var + 1e-05)*torch.sum(gamma*grad*sub1, dim=(2,3), keepdim=True)*0.5*1/(torch.sqrt(var + 1e-05))"
   ]
  },
  {
   "cell_type": "code",
   "execution_count": 82,
   "metadata": {},
   "outputs": [
    {
     "data": {
      "text/plain": [
       "True"
      ]
     },
     "execution_count": 82,
     "metadata": {},
     "output_type": "execute_result"
    }
   ],
   "source": [
    "torch.allclose(mean.grad, -1* torch.sum(grad_sub, dim=(2,3), keepdim=True))"
   ]
  },
  {
   "cell_type": "code",
   "execution_count": 83,
   "metadata": {},
   "outputs": [
    {
     "data": {
      "text/plain": [
       "True"
      ]
     },
     "execution_count": 83,
     "metadata": {},
     "output_type": "execute_result"
    }
   ],
   "source": [
    "torch.allclose(x.grad,grad_sub -1* torch.sum(grad_sub, dim=(2,3), keepdim=True)* 1/(3*3))"
   ]
  },
  {
   "cell_type": "code",
   "execution_count": 84,
   "metadata": {},
   "outputs": [
    {
     "data": {
      "text/plain": [
       "tensor([[[[ 5.5322e+01,  1.0761e+02,  1.2083e+02],\n",
       "          [-5.5389e+01, -1.0777e+02, -2.0576e+01],\n",
       "          [-7.4034e+01, -6.3269e+01,  3.7280e+01]],\n",
       "\n",
       "         [[-9.3032e+01,  5.6606e+01,  1.6033e+01],\n",
       "          [-8.8835e+01,  1.1097e+02,  2.2684e+01],\n",
       "          [ 4.7167e+01,  2.5178e+01, -9.6765e+01]]],\n",
       "\n",
       "\n",
       "        [[[-2.3220e+00,  2.1603e-01,  9.6290e-01],\n",
       "          [ 8.3308e-02,  7.3148e-01, -8.4029e-01],\n",
       "          [-6.3334e-01, -1.5467e-02,  1.8174e+00]],\n",
       "\n",
       "         [[-1.2042e+00,  1.8377e+00, -1.2498e-01],\n",
       "          [-5.7718e-01, -9.0442e-01,  4.3392e-01],\n",
       "          [ 5.7517e-01,  5.8621e-01, -6.2217e-01]]]])"
      ]
     },
     "execution_count": 84,
     "metadata": {},
     "output_type": "execute_result"
    }
   ],
   "source": [
    "x.grad"
   ]
  },
  {
   "cell_type": "code",
   "execution_count": null,
   "metadata": {},
   "outputs": [],
   "source": []
  },
  {
   "cell_type": "code",
   "execution_count": null,
   "metadata": {},
   "outputs": [],
   "source": []
  },
  {
   "cell_type": "code",
   "execution_count": 6,
   "metadata": {},
   "outputs": [],
   "source": [
    "for data in dataset:\n",
    "    model.set_input(data)\n",
    "    model.optimize_param()\n",
    "#     vis.plot_a2b(model.get_current_vis())\n",
    "    break"
   ]
  },
  {
   "cell_type": "code",
   "execution_count": null,
   "metadata": {},
   "outputs": [],
   "source": []
  },
  {
   "cell_type": "code",
   "execution_count": 13,
   "metadata": {},
   "outputs": [
    {
     "data": {
      "text/plain": [
       "OrderedDict([('D_A_depth', nan),\n",
       "             ('D_B_depth', nan),\n",
       "             ('G_A', nan),\n",
       "             ('G_B', nan),\n",
       "             ('cycle_A', 0.48907947540283203),\n",
       "             ('cycle_B', 2.061032295227051),\n",
       "             ('depth_range_A', 0.5395360589027405),\n",
       "             ('depth_range_B', 1.2941814661026)])"
      ]
     },
     "execution_count": 13,
     "metadata": {},
     "output_type": "execute_result"
    }
   ],
   "source": [
    "model.get_current_losses()"
   ]
  },
  {
   "cell_type": "code",
   "execution_count": 25,
   "metadata": {},
   "outputs": [
    {
     "data": {
      "text/plain": [
       "NLayerDiscriminator(\n",
       "  (model): Sequential(\n",
       "    (0): Conv2d(1, 64, kernel_size=(4, 4), stride=(2, 2), padding=(1, 1))\n",
       "    (1): LeakyReLU(negative_slope=0.2, inplace=True)\n",
       "    (2): Conv2d(64, 128, kernel_size=(4, 4), stride=(2, 2), padding=(1, 1))\n",
       "    (3): InstanceNorm2d(128, eps=1e-05, momentum=0.1, affine=False, track_running_stats=False)\n",
       "    (4): LeakyReLU(negative_slope=0.2, inplace=True)\n",
       "    (5): Conv2d(128, 256, kernel_size=(4, 4), stride=(2, 2), padding=(1, 1))\n",
       "    (6): InstanceNorm2d(256, eps=1e-05, momentum=0.1, affine=False, track_running_stats=False)\n",
       "    (7): LeakyReLU(negative_slope=0.2, inplace=True)\n",
       "    (8): Conv2d(256, 512, kernel_size=(4, 4), stride=(1, 1), padding=(1, 1))\n",
       "    (9): InstanceNorm2d(512, eps=1e-05, momentum=0.1, affine=False, track_running_stats=False)\n",
       "    (10): LeakyReLU(negative_slope=0.2, inplace=True)\n",
       "    (11): Conv2d(512, 1, kernel_size=(4, 4), stride=(1, 1), padding=(1, 1))\n",
       "  )\n",
       ")"
      ]
     },
     "execution_count": 25,
     "metadata": {},
     "output_type": "execute_result"
    }
   ],
   "source": [
    "model.netD_A_depth.module"
   ]
  },
  {
   "cell_type": "code",
   "execution_count": 30,
   "metadata": {},
   "outputs": [
    {
     "ename": "RuntimeError",
     "evalue": "Nan",
     "output_type": "error",
     "traceback": [
      "\u001b[0;31m---------------------------------------------------------------------------\u001b[0m",
      "\u001b[0;31mRuntimeError\u001b[0m                              Traceback (most recent call last)",
      "\u001b[0;32m<ipython-input-30-c1ef0d6966ad>\u001b[0m in \u001b[0;36m<module>\u001b[0;34m\u001b[0m\n\u001b[1;32m      1\u001b[0m \u001b[0;32mfor\u001b[0m \u001b[0mn\u001b[0m\u001b[0;34m,\u001b[0m \u001b[0mp\u001b[0m \u001b[0;32min\u001b[0m \u001b[0mmodel\u001b[0m\u001b[0;34m.\u001b[0m\u001b[0mnetD_A_depth\u001b[0m\u001b[0;34m.\u001b[0m\u001b[0mmodule\u001b[0m\u001b[0;34m.\u001b[0m\u001b[0mnamed_parameters\u001b[0m\u001b[0;34m(\u001b[0m\u001b[0;34m)\u001b[0m\u001b[0;34m:\u001b[0m\u001b[0;34m\u001b[0m\u001b[0;34m\u001b[0m\u001b[0m\n\u001b[1;32m      2\u001b[0m     \u001b[0;32mif\u001b[0m \u001b[0mtorch\u001b[0m\u001b[0;34m.\u001b[0m\u001b[0misnan\u001b[0m\u001b[0;34m(\u001b[0m\u001b[0mp\u001b[0m\u001b[0;34m)\u001b[0m\u001b[0;34m.\u001b[0m\u001b[0many\u001b[0m\u001b[0;34m(\u001b[0m\u001b[0;34m)\u001b[0m\u001b[0;34m:\u001b[0m\u001b[0;34m\u001b[0m\u001b[0;34m\u001b[0m\u001b[0m\n\u001b[0;32m----> 3\u001b[0;31m         \u001b[0;32mraise\u001b[0m \u001b[0mRuntimeError\u001b[0m\u001b[0;34m(\u001b[0m\u001b[0;34m'Nan'\u001b[0m\u001b[0;34m)\u001b[0m\u001b[0;34m\u001b[0m\u001b[0;34m\u001b[0m\u001b[0m\n\u001b[0m",
      "\u001b[0;31mRuntimeError\u001b[0m: Nan"
     ]
    }
   ],
   "source": [
    "for n, p in model.netD_A_depth.module.named_parameters():\n",
    "    if torch.isnan(p).any():\n",
    "        raise RuntimeError('Nan')"
   ]
  },
  {
   "cell_type": "code",
   "execution_count": 37,
   "metadata": {},
   "outputs": [
    {
     "name": "stdout",
     "output_type": "stream",
     "text": [
      "model.0.weight tensor(True, device='cuda:0')\n",
      "model.0.bias tensor(True, device='cuda:0')\n",
      "model.2.weight tensor(True, device='cuda:0')\n",
      "model.2.bias tensor(True, device='cuda:0')\n",
      "model.5.weight tensor(True, device='cuda:0')\n",
      "model.5.bias tensor(True, device='cuda:0')\n",
      "model.8.weight tensor(True, device='cuda:0')\n",
      "model.8.bias tensor(True, device='cuda:0')\n",
      "model.11.weight tensor(True, device='cuda:0')\n",
      "model.11.bias tensor(True, device='cuda:0')\n"
     ]
    }
   ],
   "source": [
    "for name, param in model.netD_A_depth.module.named_parameters():\n",
    "    print(name, torch.isnan(param.grad).any())"
   ]
  },
  {
   "cell_type": "code",
   "execution_count": 5,
   "metadata": {},
   "outputs": [
    {
     "data": {
      "text/plain": [
       "torch.int64"
      ]
     },
     "execution_count": 5,
     "metadata": {},
     "output_type": "execute_result"
    }
   ],
   "source": [
    "data['A_semantic'].dtype"
   ]
  },
  {
   "cell_type": "code",
   "execution_count": 22,
   "metadata": {},
   "outputs": [],
   "source": [
    "a = torch.tensor([True, False])"
   ]
  },
  {
   "cell_type": "code",
   "execution_count": 24,
   "metadata": {},
   "outputs": [
    {
     "data": {
      "text/plain": [
       "tensor(1)"
      ]
     },
     "execution_count": 24,
     "metadata": {},
     "output_type": "execute_result"
    }
   ],
   "source": [
    "torch.sum(a)"
   ]
  },
  {
   "cell_type": "code",
   "execution_count": null,
   "metadata": {},
   "outputs": [],
   "source": []
  },
  {
   "cell_type": "code",
   "execution_count": 6,
   "metadata": {},
   "outputs": [],
   "source": [
    "import imageio\n",
    "import matplotlib.pyplot as plt"
   ]
  },
  {
   "cell_type": "code",
   "execution_count": 11,
   "metadata": {},
   "outputs": [
    {
     "data": {
      "text/plain": [
       "<matplotlib.image.AxesImage at 0x7f0b8978db90>"
      ]
     },
     "execution_count": 11,
     "metadata": {},
     "output_type": "execute_result"
    },
    {
     "data": {
      "image/png": "[encoded data removed]",
      "text/plain": [
       "<Figure size 432x288 with 1 Axes>"
      ]
     },
     "metadata": {
      "needs_background": "light"
     },
     "output_type": "display_data"
    }
   ],
   "source": [
    "a = imageio.imread('/all_data/hdd/un_depth/semi/sample/testA/depth/scene0092_01_200.png')\n",
    "plt.imshow(a)"
   ]
  },
  {
   "cell_type": "code",
   "execution_count": null,
   "metadata": {},
   "outputs": [],
   "source": []
  },
  {
   "cell_type": "code",
   "execution_count": null,
   "metadata": {},
   "outputs": [],
   "source": []
  },
  {
   "cell_type": "code",
   "execution_count": 1,
   "metadata": {},
   "outputs": [],
   "source": [
    "import os\n",
    "os.chdir('/workspace/my_cyclegan')"
   ]
  },
  {
   "cell_type": "code",
   "execution_count": 6,
   "metadata": {},
   "outputs": [],
   "source": [
    "# !python train.py --dataroot /all_data/hdd/un_depth/semi/sample\\\n",
    "# --gpu_ids 1\\\n",
    "# --name test\\\n",
    "# --gan_mode vanilla\\\n",
    "# --use_blur\\\n",
    "# --netG resnet_6blocks\\\n",
    "# --ngf_depth 20\\\n",
    "# --ngf_rgb 32\\\n",
    "# --ngf_depth_edge 16\\\n",
    "# --ndf 64\\\n",
    "# --netD n_layers\\\n",
    "# --n_layers_D 3\\\n",
    "# --l_depth_large_A 70\\\n",
    "# --l_depth_small_A 70\\\n",
    "# --l_depth_large_B 10\\\n",
    "# --l_depth_small_B 10\\\n",
    "# --l_depth_max_iter 30000\\\n",
    "# --lambda_cycle_A 5.0\\\n",
    "# --lambda_identity 2.5\\\n",
    "# --lambda_reconstruction 0.0\\\n",
    "# --max_dataset_size 18\\\n",
    "# --batch_size 6\\\n",
    "# --load_size_h 480\\\n",
    "# --load_size_w 640\\\n",
    "# --lr_D 0.0003\\\n",
    "# --lr_G 0.0002\\\n",
    "# --num_iter_gen 3\\\n",
    "# --norm instance\\\n",
    "# --init_type xavier\\\n",
    "# --beta1 0.5\\\n",
    "# --img_freq 1\\\n",
    "# --loss_freq 1\\\n",
    "# --save_epoch_freq 10\\\n",
    "# --n_epochs 10\\\n",
    "# --n_epochs_decay 5\\\n",
    "# # --netG_d2e unet_256\\\n",
    "# # --net_d2e_weights './checkpoints/depth_edge_unet_1.5_weight_binatyloss/last_netG_B.pth'\\"
   ]
  },
  {
   "cell_type": "code",
   "execution_count": null,
   "metadata": {},
   "outputs": [],
   "source": []
  }
 ],
 "metadata": {
  "kernelspec": {
   "display_name": "Python 3",
   "language": "python",
   "name": "python3"
  },
  "language_info": {
   "codemirror_mode": {
    "name": "ipython",
    "version": 3
   },
   "file_extension": ".py",
   "mimetype": "text/x-python",
   "name": "python",
   "nbconvert_exporter": "python",
   "pygments_lexer": "ipython3",
   "version": "3.7.7"
  }
 },
 "nbformat": 4,
 "nbformat_minor": 4
}
