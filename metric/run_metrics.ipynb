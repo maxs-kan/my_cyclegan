{
 "cells": [
  {
   "cell_type": "code",
   "execution_count": 1,
   "metadata": {},
   "outputs": [],
   "source": [
    "import os\n",
    "os.chdir('/workspace/metric/')"
   ]
  },
  {
   "cell_type": "markdown",
   "metadata": {},
   "source": [
    "## Scannet and Scannet"
   ]
  },
  {
   "cell_type": "code",
   "execution_count": 2,
   "metadata": {},
   "outputs": [
    {
     "name": "stdout",
     "output_type": "stream",
     "text": [
      "start\n",
      "loading network Tensorflow\n",
      "Network loaded\n",
      "compute statistic A\n",
      "100%|█████████████████████████████████████████| 100/100 [01:46<00:00,  1.06s/it]\n",
      "compute statistic B\n",
      "100%|█████████████████████████████████████████| 100/100 [01:44<00:00,  1.05s/it]\n",
      "compute FID\n",
      "FID:  1.64784676533597\n",
      "MMD: 100%|███████████████████████| 50/50 [00:36<00:00,  1.39it/s, mean=0.000329]\n",
      "mean MMD^2 estimate: 0.03292656644636516\n",
      "std MMD^2 estimate: 0.00012739957387108123\n",
      "\n",
      "mean Var[MMD^2] estimate: -1.2539049616547399e-08\n",
      "std Var[MMD^2] estimate: 1.950943052502324e-09\n",
      "\n"
     ]
    }
   ],
   "source": [
    "!python fid_kid.py /all_data/hdd/un_depth/semi/sample/trainA/first/ /all_data/hdd/un_depth/semi/sample/trainA/second/ --gpu 0 --mmd-var"
   ]
  },
  {
   "cell_type": "code",
   "execution_count": 7,
   "metadata": {},
   "outputs": [
    {
     "name": "stdout",
     "output_type": "stream",
     "text": [
      "start\n",
      "loading network Tensorflow\n",
      "Network loaded\n",
      "compute statistic A\n",
      "100%|█████████████████████████████████████████| 100/100 [01:47<00:00,  1.08s/it]\n",
      "compute statistic B\n",
      "100%|█████████████████████████████████████████| 100/100 [01:46<00:00,  1.06s/it]\n",
      "compute FID\n",
      "FID:  1.503700521381731\n",
      "MMD: 100%|███████████████████████| 50/50 [00:37<00:00,  1.35it/s, mean=0.000354]\n",
      "mean MMD^2 estimate: 0.0353850988925668\n",
      "std MMD^2 estimate: 0.00011583642778028629\n",
      "\n",
      "mean Var[MMD^2] estimate: 1.1022238823077164e-07\n",
      "std Var[MMD^2] estimate: 1.210947166005386e-09\n",
      "\n"
     ]
    }
   ],
   "source": [
    "!python fid_kid.py /all_data/hdd/un_depth/semi/sample/trainA/first/ /all_data/hdd/un_depth/semi/sample/trainA/second/ --gpu 0 --mmd-var --use_normals"
   ]
  },
  {
   "cell_type": "markdown",
   "metadata": {},
   "source": [
    "### Interiornet and Interiornet"
   ]
  },
  {
   "cell_type": "code",
   "execution_count": 3,
   "metadata": {},
   "outputs": [
    {
     "name": "stdout",
     "output_type": "stream",
     "text": [
      "start\n",
      "loading network Tensorflow\n",
      "Network loaded\n",
      "compute statistic A\n",
      "100%|█████████████████████████████████████████| 100/100 [01:38<00:00,  1.02it/s]\n",
      "compute statistic B\n",
      "100%|█████████████████████████████████████████| 100/100 [01:38<00:00,  1.01it/s]\n",
      "compute FID\n",
      "FID:  1.516115513419976\n",
      "MMD: 100%|███████████████████████| 50/50 [00:38<00:00,  1.29it/s, mean=0.000153]\n",
      "mean MMD^2 estimate: 0.015317512032099854\n",
      "std MMD^2 estimate: 7.4926485778605e-05\n",
      "\n",
      "mean Var[MMD^2] estimate: 5.3722077618728985e-08\n",
      "std Var[MMD^2] estimate: 8.542666746561539e-10\n",
      "\n"
     ]
    }
   ],
   "source": [
    "!python fid_kid.py /all_data/hdd/un_depth/semi/sample/trainB/first/ /all_data/hdd/un_depth/semi/sample/trainB/second/ --gpu 0 --mmd-var"
   ]
  },
  {
   "cell_type": "code",
   "execution_count": 3,
   "metadata": {},
   "outputs": [
    {
     "name": "stdout",
     "output_type": "stream",
     "text": [
      "start\n",
      "loading network Tensorflow\n",
      "Network loaded\n",
      "compute statistic A\n",
      "100%|█████████████████████████████████████████| 100/100 [01:42<00:00,  1.03s/it]\n",
      "compute statistic B\n",
      "100%|█████████████████████████████████████████| 100/100 [01:39<00:00,  1.00it/s]\n",
      "compute FID\n",
      "FID:  1.8055581019249445\n",
      "MMD: 100%|███████████████████████| 50/50 [00:32<00:00,  1.56it/s, mean=0.000173]\n",
      "mean MMD^2 estimate: 0.017329281143702246\n",
      "std MMD^2 estimate: 7.236001028220651e-05\n",
      "\n",
      "mean Var[MMD^2] estimate: -1.5425290313793563e-07\n",
      "std Var[MMD^2] estimate: 5.57156692286313e-10\n",
      "\n"
     ]
    }
   ],
   "source": [
    "!python fid_kid.py /all_data/hdd/un_depth/semi/sample/trainB/first/ /all_data/hdd/un_depth/semi/sample/trainB/second/ --gpu 0 --mmd-var --use_normals"
   ]
  },
  {
   "cell_type": "markdown",
   "metadata": {},
   "source": [
    "### Scannet and Interiornet"
   ]
  },
  {
   "cell_type": "code",
   "execution_count": 4,
   "metadata": {},
   "outputs": [
    {
     "name": "stdout",
     "output_type": "stream",
     "text": [
      "start\n",
      "loading network Tensorflow\n",
      "Network loaded\n",
      "compute statistic A\n",
      "100%|█████████████████████████████████████████| 100/100 [01:44<00:00,  1.04s/it]\n",
      "compute statistic B\n",
      "100%|█████████████████████████████████████████| 100/100 [01:37<00:00,  1.03it/s]\n",
      "compute FID\n",
      "FID:  51.02458070430697\n",
      "MMD: 100%|█████████████████████████| 50/50 [00:36<00:00,  1.38it/s, mean=0.0559]\n",
      "mean MMD^2 estimate: 5.589221470230004\n",
      "std MMD^2 estimate: 0.0012103135120150137\n",
      "\n",
      "mean Var[MMD^2] estimate: 3.1196214772468985e-05\n",
      "std Var[MMD^2] estimate: 1.362303974325405e-08\n",
      "\n"
     ]
    }
   ],
   "source": [
    "!python fid_kid.py /all_data/hdd/un_depth/semi/sample/testA/depth/ /all_data/hdd/un_depth/semi/sample/testB/depth/ --gpu 0 --mmd-var"
   ]
  },
  {
   "cell_type": "markdown",
   "metadata": {},
   "source": [
    "### UGATIT A2B and Interiornet"
   ]
  },
  {
   "cell_type": "code",
   "execution_count": 5,
   "metadata": {},
   "outputs": [
    {
     "name": "stdout",
     "output_type": "stream",
     "text": [
      "start\n",
      "loading network Tensorflow\n",
      "Network loaded\n",
      "compute statistic A\n",
      "100%|█████████████████████████████████████████| 100/100 [01:52<00:00,  1.13s/it]\n",
      "compute statistic B\n",
      "100%|█████████████████████████████████████████| 100/100 [01:38<00:00,  1.01it/s]\n",
      "compute FID\n",
      "FID:  23.282014834851807\n",
      "MMD: 100%|█████████████████████████| 50/50 [00:35<00:00,  1.39it/s, mean=0.0216]\n",
      "mean MMD^2 estimate: 2.1607944565818347\n",
      "std MMD^2 estimate: 0.0005819080850425271\n",
      "\n",
      "mean Var[MMD^2] estimate: 1.2477183753495045e-05\n",
      "std Var[MMD^2] estimate: 7.301935031098395e-09\n",
      "\n"
     ]
    }
   ],
   "source": [
    "!python fid_kid.py /all_data/hdd/un_depth/results/max/ugatit/A2B/ /all_data/hdd/un_depth/semi/sample/testB/depth/ --gpu 0 --mmd-var"
   ]
  },
  {
   "cell_type": "code",
   "execution_count": 12,
   "metadata": {},
   "outputs": [
    {
     "name": "stdout",
     "output_type": "stream",
     "text": [
      "start\n",
      "loading network Tensorflow\n",
      "Network loaded\n",
      "compute statistic A\n",
      "100%|█████████████████████████████████████████| 100/100 [01:54<00:00,  1.15s/it]\n",
      "compute statistic B\n",
      "100%|█████████████████████████████████████████| 100/100 [01:40<00:00,  1.01s/it]\n",
      "compute FID\n",
      "FID:  58.494510939463275\n",
      "MMD: 100%|█████████████████████████| 50/50 [00:31<00:00,  1.56it/s, mean=0.0698]\n",
      "mean MMD^2 estimate: 6.980858940463218\n",
      "std MMD^2 estimate: 0.0006592464866750862\n",
      "\n",
      "mean Var[MMD^2] estimate: 1.1147804195287897e-05\n",
      "std Var[MMD^2] estimate: 3.81111656266991e-09\n",
      "\n"
     ]
    }
   ],
   "source": [
    "!python fid_kid.py /all_data/hdd/un_depth/results/max/ugatit/A2B/ /all_data/hdd/un_depth/semi/sample/testB/ --gpu 0 --mmd-var --use_normals"
   ]
  },
  {
   "cell_type": "markdown",
   "metadata": {},
   "source": [
    "### UGATIT B2A and Scannet"
   ]
  },
  {
   "cell_type": "code",
   "execution_count": 6,
   "metadata": {},
   "outputs": [
    {
     "name": "stdout",
     "output_type": "stream",
     "text": [
      "start\n",
      "loading network Tensorflow\n",
      "Network loaded\n",
      "compute statistic A\n",
      "100%|█████████████████████████████████████████| 100/100 [01:51<00:00,  1.12s/it]\n",
      "compute statistic B\n",
      "100%|█████████████████████████████████████████| 100/100 [01:56<00:00,  1.16s/it]\n",
      "compute FID\n",
      "FID:  21.121604828290103\n",
      "MMD: 100%|█████████████████████████| 50/50 [00:39<00:00,  1.25it/s, mean=0.0233]\n",
      "mean MMD^2 estimate: 2.3295363883099256\n",
      "std MMD^2 estimate: 0.001162622457593278\n",
      "\n",
      "mean Var[MMD^2] estimate: 3.4050661685095476e-05\n",
      "std Var[MMD^2] estimate: 2.0338318494469527e-08\n",
      "\n"
     ]
    }
   ],
   "source": [
    "!python fid_kid.py /all_data/hdd/un_depth/results/max/ugatit/B2A/ /all_data/hdd/un_depth/semi/sample/testA/depth/ --gpu 0 --mmd-var"
   ]
  },
  {
   "cell_type": "markdown",
   "metadata": {},
   "source": [
    "### 2 Disc(depth, normals) transpose conv"
   ]
  },
  {
   "cell_type": "code",
   "execution_count": 8,
   "metadata": {},
   "outputs": [
    {
     "name": "stdout",
     "output_type": "stream",
     "text": [
      "start\n",
      "loading network Tensorflow\n",
      "Network loaded\n",
      "compute statistic A\n",
      "100%|█████████████████████████████████████████| 417/417 [02:34<00:00,  2.69it/s]\n",
      "compute statistic B\n",
      "100%|█████████████████████████████████████████| 417/417 [02:15<00:00,  3.07it/s]\n",
      "compute FID\n",
      "FID:  28.06240603228882\n",
      "MMD: 100%|█████████████████████████| 50/50 [00:51<00:00,  1.03s/it, mean=0.0275]\n",
      "mean MMD^2 estimate: 2.750258315396078\n",
      "std MMD^2 estimate: 0.0007158164860344174\n",
      "\n",
      "mean Var[MMD^2] estimate: 1.3092714165133814e-05\n",
      "std Var[MMD^2] estimate: 9.163980864904201e-09\n",
      "\n"
     ]
    }
   ],
   "source": [
    "!python fid_kid.py /all_data/hdd/un_depth/results/max/try_normal_depth_disc_transpose/test/A2B/ /all_data/hdd/un_depth/semi/sample/testB/ --gpu 0,1,2,3 --mmd-var --batch-size 12"
   ]
  },
  {
   "cell_type": "code",
   "execution_count": 9,
   "metadata": {},
   "outputs": [
    {
     "name": "stdout",
     "output_type": "stream",
     "text": [
      "start\n",
      "loading network Tensorflow\n",
      "Network loaded\n",
      "compute statistic A\n",
      "100%|█████████████████████████████████████████| 417/417 [02:32<00:00,  2.73it/s]\n",
      "compute statistic B\n",
      "100%|█████████████████████████████████████████| 417/417 [02:10<00:00,  3.20it/s]\n",
      "compute FID\n",
      "FID:  58.954593270443965\n",
      "MMD: 100%|██████████████████████████| 50/50 [00:46<00:00,  1.09it/s, mean=0.072]\n",
      "mean MMD^2 estimate: 7.199876195728564\n",
      "std MMD^2 estimate: 0.0005783421613868209\n",
      "\n",
      "mean Var[MMD^2] estimate: 9.575783716106806e-06\n",
      "std Var[MMD^2] estimate: 2.8305395462061414e-09\n",
      "\n"
     ]
    }
   ],
   "source": [
    "!python fid_kid.py /all_data/hdd/un_depth/results/max/try_normal_depth_disc_transpose/test/A2B/ /all_data/hdd/un_depth/semi/sample/testB/ --gpu 0,1,2,3 --mmd-var --batch-size 12 --use_normals"
   ]
  },
  {
   "cell_type": "markdown",
   "metadata": {},
   "source": [
    "### Check Tanh A2B and InteriorNet"
   ]
  },
  {
   "cell_type": "code",
   "execution_count": 15,
   "metadata": {},
   "outputs": [
    {
     "name": "stdout",
     "output_type": "stream",
     "text": [
      "start\n",
      "loading network Tensorflow\n",
      "Network loaded\n",
      "compute statistic A\n",
      "100%|█████████████████████████████████████████| 100/100 [01:40<00:00,  1.00s/it]\n",
      "compute statistic B\n",
      "100%|█████████████████████████████████████████| 100/100 [01:36<00:00,  1.03it/s]\n",
      "compute FID\n",
      "FID:  26.922941570929424\n",
      "MMD: 100%|█████████████████████████| 50/50 [00:36<00:00,  1.37it/s, mean=0.0261]\n",
      "mean MMD^2 estimate: 2.6075676670101604\n",
      "std MMD^2 estimate: 0.000860655790947057\n",
      "\n",
      "mean Var[MMD^2] estimate: 1.535691429548241e-05\n",
      "std Var[MMD^2] estimate: 1.0958373614868715e-08\n",
      "\n"
     ]
    }
   ],
   "source": [
    "!python fid_kid.py /all_data/hdd/un_depth/results/max/check_tanh/A2B/ /all_data/hdd/un_depth/semi/sample/testB/ --gpu 0 --mmd-var"
   ]
  },
  {
   "cell_type": "code",
   "execution_count": 2,
   "metadata": {},
   "outputs": [
    {
     "name": "stdout",
     "output_type": "stream",
     "text": [
      "start\n",
      "loading network Tensorflow\n",
      "Network loaded\n",
      "compute statistic A\n",
      "100%|█████████████████████████████████████████| 100/100 [01:44<00:00,  1.04s/it]\n",
      "compute statistic B\n",
      "100%|█████████████████████████████████████████| 100/100 [01:39<00:00,  1.00it/s]\n",
      "compute FID\n",
      "FID:  51.932132276169455\n",
      "MMD: 100%|█████████████████████████| 50/50 [00:40<00:00,  1.23it/s, mean=0.0625]\n",
      "mean MMD^2 estimate: 6.254144883986229\n",
      "std MMD^2 estimate: 0.0006596086875438872\n",
      "\n",
      "mean Var[MMD^2] estimate: 8.8216997389428e-06\n",
      "std Var[MMD^2] estimate: 3.0273773426699724e-09\n",
      "\n"
     ]
    }
   ],
   "source": [
    "!python fid_kid.py /all_data/hdd/un_depth/results/max/check_tanh/A2B/ /all_data/hdd/un_depth/semi/sample/testB/ --gpu 0 --mmd-var --use_normals"
   ]
  },
  {
   "cell_type": "markdown",
   "metadata": {},
   "source": [
    "### Check Tanh B2A and Scannet"
   ]
  },
  {
   "cell_type": "code",
   "execution_count": 8,
   "metadata": {},
   "outputs": [
    {
     "name": "stdout",
     "output_type": "stream",
     "text": [
      "start\n",
      "loading network Tensorflow\n",
      "Network loaded\n",
      "compute statistic A\n",
      "100%|█████████████████████████████████████████| 100/100 [01:50<00:00,  1.10s/it]\n",
      "compute statistic B\n",
      "100%|█████████████████████████████████████████| 100/100 [01:53<00:00,  1.13s/it]\n",
      "compute FID\n",
      "FID:  24.491624566284052\n",
      "MMD: 100%|█████████████████████████| 50/50 [00:38<00:00,  1.31it/s, mean=0.0225]\n",
      "mean MMD^2 estimate: 2.2505199950066617\n",
      "std MMD^2 estimate: 0.0007325312550361643\n",
      "\n",
      "mean Var[MMD^2] estimate: 1.515402939745167e-05\n",
      "std Var[MMD^2] estimate: 1.2308585384427013e-08\n",
      "\n"
     ]
    }
   ],
   "source": [
    "!python fid_kid.py /all_data/hdd/un_depth/results/max/check_tanh/B2A/ /all_data/hdd/un_depth/semi/sample/testA/depth/ --gpu 1 --mmd-var"
   ]
  },
  {
   "cell_type": "code",
   "execution_count": null,
   "metadata": {},
   "outputs": [],
   "source": []
  },
  {
   "cell_type": "code",
   "execution_count": null,
   "metadata": {},
   "outputs": [],
   "source": []
  },
  {
   "cell_type": "code",
   "execution_count": null,
   "metadata": {},
   "outputs": [],
   "source": []
  }
 ],
 "metadata": {
  "kernelspec": {
   "display_name": "Python 3",
   "language": "python",
   "name": "python3"
  },
  "language_info": {
   "codemirror_mode": {
    "name": "ipython",
    "version": 3
   },
   "file_extension": ".py",
   "mimetype": "text/x-python",
   "name": "python",
   "nbconvert_exporter": "python",
   "pygments_lexer": "ipython3",
   "version": "3.7.7"
  }
 },
 "nbformat": 4,
 "nbformat_minor": 4
}
